{
 "cells": [
  {
   "cell_type": "markdown",
   "metadata": {},
   "source": [
    "The point of this exercise was not to make sure everything works flawlessly but was a way for me to familiarize myself with Tensorflow. It would probably take quite a bit more time to iron out all the rough edges, to tune hyperparameters, etc. But I am not sure that spending time on this makes sense for me at this point. So please proceed with caution.\n",
    "\n",
    "Some of the obvious things that are missing are not recalculating batch norm statistics during inference and training with weight decay. It would also be nice to use gradient clipping, test time augmentation and implement running loss.\n",
    "\n",
    "Having said this, this still achieves 92% accuracy on the validation set after ~20 epochs of training, which is quite decent.\n",
    "\n",
    "I am sharing this as I still feel it can be helpful. There are not many self contained examples of Tensorflow code available on the Internet that would not center on using estimators or keras (or at least I had a lot of trouble finding them) and in particular the documentation on how to use TFRecord files seems to be rather sparse."
   ]
  },
  {
   "cell_type": "code",
   "execution_count": 1,
   "metadata": {},
   "outputs": [],
   "source": [
    "%matplotlib inline\n",
    "from matplotlib import pyplot as plt\n",
    "import matplotlib.pyplot as plt\n",
    "import multiprocessing\n",
    "from glob import glob\n",
    "from __future__ import division\n",
    "\n",
    "import tensorflow as tf\n",
    "from models import resnet_model # this is slightly modified from the original\n",
    "import numpy as np\n",
    "import cv2"
   ]
  },
  {
   "cell_type": "code",
   "execution_count": 2,
   "metadata": {},
   "outputs": [],
   "source": [
    "resnet_size = 18\n",
    "num_classes = 10\n",
    "resnet_version = 2\n",
    "data_format = 'channels_first'\n",
    "num_blocks = 4"
   ]
  },
  {
   "cell_type": "code",
   "execution_count": 3,
   "metadata": {},
   "outputs": [],
   "source": [
    "m = resnet_model.Model(resnet_size=resnet_size,\n",
    "        bottleneck=False,\n",
    "        num_classes=num_classes,\n",
    "        num_filters=[16, 160, 320, 640],\n",
    "        kernel_size=3,\n",
    "        conv_stride=1,\n",
    "        first_pool_size=None,\n",
    "        first_pool_stride=None,\n",
    "        block_sizes=[num_blocks] * 3,\n",
    "        block_strides=[1, 2, 2],\n",
    "        final_size=320,\n",
    "        resnet_version=resnet_version,\n",
    "        data_format=data_format)"
   ]
  },
  {
   "cell_type": "code",
   "execution_count": 4,
   "metadata": {},
   "outputs": [],
   "source": [
    "PATH = '../data/cifar10/'"
   ]
  },
  {
   "cell_type": "code",
   "execution_count": 5,
   "metadata": {},
   "outputs": [],
   "source": [
    "classes = ('airplane', 'automobile', 'bird', 'cat', 'deer', 'dog', 'frog', 'horse', 'ship', 'truck')\n",
    "# per channel means and st_devs\n",
    "stats = (np.array([ 0.4914 ,  0.48216,  0.44653]), np.array([ 0.24703,  0.24349,  0.26159]))"
   ]
  },
  {
   "cell_type": "markdown",
   "metadata": {},
   "source": [
    "##  Create TFRecord files"
   ]
  },
  {
   "cell_type": "markdown",
   "metadata": {},
   "source": [
    "http://machinelearninguru.com/deep_learning/data_preparation/tfrecord/tfrecord.html#create"
   ]
  },
  {
   "cell_type": "code",
   "execution_count": 6,
   "metadata": {},
   "outputs": [],
   "source": [
    "trn_paths = glob(PATH + 'train/**/*')\n",
    "val_paths = glob(PATH + 'test/**/*')\n",
    "np.random.shuffle(trn_paths)\n",
    "np.random.shuffle(val_paths)"
   ]
  },
  {
   "cell_type": "code",
   "execution_count": 7,
   "metadata": {},
   "outputs": [],
   "source": [
    "n = 10\n",
    "trn_paths_with_targets = [(trn_paths[i::n], PATH + 'train_{}_of_10.tfrecords'.format(i+1)) for i in range(n)]\n",
    "val_paths_with_targets = [(val_paths[i::n], PATH + 'val_{}_of_10.tfrecords'.format(i+1)) for i in range(n)]"
   ]
  },
  {
   "cell_type": "code",
   "execution_count": 8,
   "metadata": {},
   "outputs": [],
   "source": [
    "def tfrecords_from_paths(paths, save_to):\n",
    "    with tf.python_io.TFRecordWriter(save_to) as w:\n",
    "        ims = []\n",
    "        for path in paths:\n",
    "            im = cv2.imread(path)\n",
    "            im = cv2.cvtColor(im, cv2.COLOR_BGR2RGB)\n",
    "            cls = path.split('/')[-2]\n",
    "            cls_idx = classes.index(cls)\n",
    "\n",
    "            feature = {\n",
    "                'cls': tf.train.Feature(\n",
    "                    bytes_list=tf.train.BytesList(\n",
    "                        value=[tf.compat.as_bytes(cls)]\n",
    "                    )\n",
    "                ),\n",
    "                'cls_idx': tf.train.Feature(\n",
    "                    int64_list=tf.train.Int64List(\n",
    "                        value=[cls_idx]\n",
    "                    )\n",
    "                ),\n",
    "                'im': tf.train.Feature(\n",
    "                    bytes_list=tf.train.BytesList(\n",
    "                        value=[tf.compat.as_bytes(im.astype(np.float32).tostring())]\n",
    "                    )\n",
    "                )\n",
    "            }\n",
    "            example = tf.train.Example(features=tf.train.Features(feature=feature))\n",
    "            w.write(example.SerializeToString())"
   ]
  },
  {
   "cell_type": "code",
   "execution_count": 9,
   "metadata": {},
   "outputs": [
    {
     "name": "stdout",
     "output_type": "stream",
     "text": [
      "CPU times: user 32 ms, sys: 52 ms, total: 84 ms\n",
      "Wall time: 1.39 s\n"
     ]
    }
   ],
   "source": [
    "%%time\n",
    "pool = multiprocessing.Pool(processes=10)\n",
    "pool.starmap(tfrecords_from_paths, trn_paths_with_targets)\n",
    "pool.starmap(tfrecords_from_paths, val_paths_with_targets)"
   ]
  },
  {
   "cell_type": "markdown",
   "metadata": {},
   "source": [
    "## Contruct the Datest pipepline"
   ]
  },
  {
   "cell_type": "code",
   "execution_count": 10,
   "metadata": {},
   "outputs": [],
   "source": [
    "bs = 128"
   ]
  },
  {
   "cell_type": "code",
   "execution_count": 11,
   "metadata": {},
   "outputs": [],
   "source": [
    "def parse_record(record):\n",
    "    features = {\n",
    "        'cls': tf.FixedLenFeature([], tf.string),\n",
    "        'cls_idx': tf.FixedLenFeature([], tf.int64),\n",
    "        'im': tf.FixedLenFeature([], tf.string)\n",
    "    }\n",
    "    example = tf.parse_single_example(record, features)\n",
    "    example['im'] = tf.decode_raw(example['im'], out_type=tf.float32)\n",
    "    example['im'] = tf.reshape(example['im'], (32, 32, 3))\n",
    "    return example"
   ]
  },
  {
   "cell_type": "code",
   "execution_count": 12,
   "metadata": {},
   "outputs": [],
   "source": [
    "tf_stats = tf.constant(np.stack(stats).astype(np.float32))\n",
    "def augment_im(ex):\n",
    "    ex['im'] = tf.pad(ex['im'], [(4, 4), (4, 4), (0, 0)])\n",
    "    ex['im'] = tf.random_crop(ex['im'], (32, 32, 3))\n",
    "    \n",
    "    ex['im'] = tf.cond(\n",
    "        tf.greater(tf.random_uniform([]), 0.5),\n",
    "        lambda: tf.image.flip_left_right(ex['im']), \n",
    "        lambda: ex['im'])\n",
    "    \n",
    "    # normalizing the image\n",
    "    ex['im'] /= 255\n",
    "    ex['im'] -= tf_stats[0]\n",
    "    ex['im'] /= tf_stats[1]\n",
    "    return ex"
   ]
  },
  {
   "cell_type": "code",
   "execution_count": 13,
   "metadata": {},
   "outputs": [],
   "source": [
    "train_fns = tf.data.Dataset.list_files(PATH + 'train*.tfrecords')\n",
    "trn_ds = tf.data.TFRecordDataset(train_fns) \\\n",
    "    .shuffle(1000) \\\n",
    "    .map(parse_record) \\\n",
    "    .map(augment_im) \\\n",
    "    .batch(bs) \\\n",
    "    .repeat()"
   ]
  },
  {
   "cell_type": "code",
   "execution_count": 14,
   "metadata": {},
   "outputs": [],
   "source": [
    "val_fns = tf.data.Dataset.list_files(PATH + 'val*.tfrecords')\n",
    "val_ds = tf.data.TFRecordDataset(val_fns) \\\n",
    "    .map(parse_record) \\\n",
    "    .batch(5000)"
   ]
  },
  {
   "cell_type": "code",
   "execution_count": 15,
   "metadata": {},
   "outputs": [],
   "source": [
    "def get_lr(batch_num, total_batches, max_lr, lr_ratio, last_phase_duration):\n",
    "    starting_lr = max_lr / lr_ratio\n",
    "    final_lr = starting_lr / 100\n",
    "    main_cycle_duration = total_batches - (total_batches / 100) * last_phase_duration\n",
    "    single_phase_duration = main_cycle_duration / 2\n",
    "    last_phase_duration = total_batches - main_cycle_duration\n",
    "    if batch_num <= single_phase_duration:\n",
    "        return starting_lr + (batch_num / single_phase_duration) * (max_lr - starting_lr)\n",
    "    elif batch_num <= main_cycle_duration:\n",
    "        return max_lr - ((batch_num - single_phase_duration) / single_phase_duration) * (max_lr - starting_lr)\n",
    "    else:\n",
    "        return starting_lr - (batch_num - main_cycle_duration) * (starting_lr - final_lr) / last_phase_duration"
   ]
  },
  {
   "cell_type": "code",
   "execution_count": 16,
   "metadata": {},
   "outputs": [
    {
     "data": {
      "image/png": "[encoded data removed]",
      "text/plain": [
       "<Figure size 432x288 with 1 Axes>"
      ]
     },
     "metadata": {},
     "output_type": "display_data"
    }
   ],
   "source": [
    "plt.plot([get_lr(i, 100, 1.5, 12, 15) for i in range(100)])\n",
    "plt.title('1cycle policy: learning rate')\n",
    "plt.xlabel('epoch')\n",
    "plt.ylabel('learning rate');"
   ]
  },
  {
   "cell_type": "code",
   "execution_count": 17,
   "metadata": {},
   "outputs": [],
   "source": [
    "def get_mom(batch_num, total_batches, last_phase_duration, max_mom=0.95, min_mom=0.85):\n",
    "    main_cycle_duration = int(total_batches - (total_batches / 100) * last_phase_duration)\n",
    "    single_phase_duration = main_cycle_duration / 2\n",
    "    last_phase_duration = total_batches - main_cycle_duration\n",
    "    if batch_num <= single_phase_duration:\n",
    "        return max_mom - (max_mom - min_mom) * batch_num / single_phase_duration\n",
    "    elif batch_num <= main_cycle_duration:\n",
    "        return min_mom + (max_mom - min_mom) * (batch_num - single_phase_duration) / single_phase_duration\n",
    "    else:\n",
    "        return max_mom"
   ]
  },
  {
   "cell_type": "code",
   "execution_count": 18,
   "metadata": {},
   "outputs": [
    {
     "data": {
      "image/png": "[encoded data removed]",
      "text/plain": [
       "<Figure size 432x288 with 1 Axes>"
      ]
     },
     "metadata": {},
     "output_type": "display_data"
    }
   ],
   "source": [
    "plt.plot([get_mom(i, 100, 15) for i in range(100)])\n",
    "plt.title('1cycle policy: momentum')\n",
    "plt.xlabel('epoch')\n",
    "plt.ylabel('momentum');"
   ]
  },
  {
   "cell_type": "code",
   "execution_count": 19,
   "metadata": {},
   "outputs": [],
   "source": [
    "training_duration = 15000 # num of batches to train on, around 17 epochs\n",
    "max_lr = 1.5"
   ]
  },
  {
   "cell_type": "code",
   "execution_count": 20,
   "metadata": {},
   "outputs": [
    {
     "name": "stdout",
     "output_type": "stream",
     "text": [
      "0 2.3851616 0.171875\n",
      "2250 0.5101474 0.60546875\n",
      "3000 0.60501933 0.665625\n",
      "3750 0.3608644 0.7057292\n",
      "4500 0.340433 0.73883927\n",
      "5250 0.335846 0.7636719\n",
      "6000 0.26189458 0.7838542\n",
      "6750 0.28541684 0.8\n",
      "7500 0.23169807 0.81392044\n",
      "8250 0.15814932 0.8255208\n",
      "9000 0.08956765 0.8359375\n",
      "9750 0.11746195 0.8448661\n",
      "10500 0.15202297 0.8541667\n",
      "11250 0.03559986 0.86279297\n",
      "12000 0.02826716 0.8699449\n",
      "12750 0.010788053 0.87717015\n",
      "13500 0.0043187393 0.88363487\n",
      "14250 0.0022717537 0.8894531\n",
      "14999 0.0019251698 0.8947173\n",
      "CPU times: user 30min 37s, sys: 7min 27s, total: 38min 5s\n",
      "Wall time: 26min 9s\n"
     ]
    }
   ],
   "source": [
    "%%time\n",
    "\n",
    "train_graph = tf.Graph()\n",
    "with train_graph.as_default():\n",
    "    batch = trn_ds.make_one_shot_iterator().get_next()\n",
    "\n",
    "    logits = m(batch['im'], True)\n",
    "    cross_entropy = tf.losses.sparse_softmax_cross_entropy(batch['cls_idx'], logits)\n",
    "    accuracy = tf.metrics.accuracy(batch['cls_idx'], tf.argmax(logits, 1))\n",
    "\n",
    "    learning_rate = tf.placeholder(tf.float32, shape=[])\n",
    "    momentum = tf.placeholder(tf.float32, shape=[])\n",
    "    optimizer = tf.train.MomentumOptimizer(learning_rate, momentum)\n",
    "    \n",
    "    global_step = tf.train.get_or_create_global_step()\n",
    "    minimize_op = optimizer.minimize(cross_entropy, global_step)\n",
    "\n",
    "    saver = tf.train.Saver()\n",
    "\n",
    "    with tf.Session() as s:\n",
    "        s.run([tf.global_variables_initializer(), tf.local_variables_initializer()])\n",
    "        while True:\n",
    "            step = s.run([global_step])[0]\n",
    "            lr, mom = get_lr(step, training_duration, max_lr, 12, 15), get_mom(step, training_duration, 15)\n",
    "            _, loss = s.run([minimize_op, cross_entropy], feed_dict={learning_rate: lr, momentum: mom})\n",
    "\n",
    "            if step % 750 == 0:\n",
    "                print(step, loss, s.run([accuracy][0][1]))\n",
    "            if step == training_duration - 1:\n",
    "                print(step, loss, s.run([accuracy][0][1]))\n",
    "                saver.save(s, '/root/workspace/model.ckpt')\n",
    "                break"
   ]
  },
  {
   "cell_type": "code",
   "execution_count": 21,
   "metadata": {},
   "outputs": [
    {
     "name": "stdout",
     "output_type": "stream",
     "text": [
      "INFO:tensorflow:Restoring parameters from /root/workspace/model.ckpt\n",
      "val_loss: \t0.38016033\tval accuracy: \t0.9224\n"
     ]
    }
   ],
   "source": [
    "val_graph = tf.Graph()\n",
    "with val_graph.as_default():\n",
    "    batch = val_ds.make_one_shot_iterator().get_next()\n",
    "\n",
    "    logits = m(batch['im'], True)\n",
    "    accuracy = tf.metrics.accuracy(batch['cls_idx'], tf.argmax(logits, 1))\n",
    "    cross_entropy = tf.losses.sparse_softmax_cross_entropy(batch['cls_idx'], logits)\n",
    "    \n",
    "    init_op = tf.group(tf.global_variables_initializer(), tf.local_variables_initializer())\n",
    "    saver = tf.train.Saver()\n",
    "    with tf.Session() as s:\n",
    "        s.run([init_op])\n",
    "        saver.restore(s, '/root/workspace/model.ckpt')\n",
    "        loss, acc = s.run([cross_entropy, accuracy])\n",
    "        print('val_loss: ', loss, 'val accuracy: ', acc[1], sep='\\t')"
   ]
  }
 ],
 "metadata": {
  "kernelspec": {
   "display_name": "Python 3",
   "language": "python",
   "name": "python3"
  },
  "language_info": {
   "codemirror_mode": {
    "name": "ipython",
    "version": 3
   },
   "file_extension": ".py",
   "mimetype": "text/x-python",
   "name": "python",
   "nbconvert_exporter": "python",
   "pygments_lexer": "ipython3",
   "version": "3.5.2"
  }
 },
 "nbformat": 4,
 "nbformat_minor": 2
}
